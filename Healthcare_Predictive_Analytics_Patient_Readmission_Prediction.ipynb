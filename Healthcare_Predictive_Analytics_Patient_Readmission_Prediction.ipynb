{
  "nbformat": 4,
  "nbformat_minor": 0,
  "metadata": {
    "colab": {
      "provenance": []
    },
    "kernelspec": {
      "name": "python3",
      "display_name": "Python 3"
    },
    "language_info": {
      "name": "python"
    }
  },
  "cells": [
    {
      "cell_type": "code",
      "execution_count": null,
      "metadata": {
        "id": "MnNw1Zks8bCD"
      },
      "outputs": [],
      "source": [
        
        "import pandas as pd\n",
        "import numpy as np\n",
        "from sklearn.model_selection import train_test_split\n",
        "from sklearn.preprocessing import LabelEncoder, StandardScaler\n",
        "from sklearn.linear_model import LogisticRegression\n",
        "from sklearn.ensemble import RandomForestClassifier\n",
        "from sklearn.metrics import accuracy_score, classification_report, confusion_matrix\n",
        "\n",
        
        "data = pd.read_csv(\"PP1Healthcare.csv\")\n",
        "\n",
        
        "data.columns = data.columns.str.strip().str.replace(\" \", \"_\")\n",
        "data = data.dropna()\n",
        "\n",
        
        
        "np.random.seed(42)\n",
        "data[\"Readmitted\"] = np.where(\n",
        "    (data[\"Medical_Condition\"].isin([\"Diabetes\", \"Cancer\"])) |\n",
        "    (data[\"Age\"] > 60) |\n",
        "    (data[\"Billing_Amount\"] > data[\"Billing_Amount\"].median()),\n",
        "    \"Yes\", \"No\"\n",
        ")\n",
        "\n",
        
        "le = LabelEncoder()\n",
        "for col in data.select_dtypes(include=['object']).columns:\n",
        "    data[col] = le.fit_transform(data[col])\n",
        "\n",
        
        "X = data.drop(\"Readmitted\", axis=1)\n",
        "y = data[\"Readmitted\"]\n",
        "\n",
        
        "X_train, X_test, y_train, y_test = train_test_split(X, y, test_size=0.25, random_state=42)\n",
        "\n",
        
        "scaler = StandardScaler()\n",
        "X_train_scaled = scaler.fit_transform(X_train)\n",
        "X_test_scaled = scaler.transform(X_test)\n",
        "\n",
      
        "lr_model = LogisticRegression(max_iter=1000)\n",
        "lr_model.fit(X_train_scaled, y_train)\n",
        "lr_pred = lr_model.predict(X_test_scaled)\n",
        "lr_acc = accuracy_score(y_test, lr_pred)\n",
        "\n",
        
        "rf_model = RandomForestClassifier(n_estimators=100, random_state=42)\n",
        "rf_model.fit(X_train, y_train)\n",
        "rf_pred = rf_model.predict(X_test)\n",
        "rf_acc = accuracy_score(y_test, rf_pred)\n",
        "\n",
        
        "print(\"=== Logistic Regression Results ===\")\n",
        "print(\"Accuracy:\", round(lr_acc*100, 2), \"%\")\n",
        "print(classification_report(y_test, lr_pred))\n",
        "\n",
        "print(\"\\n=== Random Forest Results ===\")\n",
        "print(\"Accuracy:\", round(rf_acc*100, 2), \"%\")\n",
        "print(classification_report(y_test, rf_pred))\n",
        "\n",
        
        "print(\"\\nLogistic Regression Confusion Matrix:\\n\", confusion_matrix(y_test, lr_pred))\n",
        "print(\"\\nRandom Forest Confusion Matrix:\\n\", confusion_matrix(y_test, rf_pred))\n",
        "\n",
    
        "results = pd.DataFrame({\n",
        "    \"Actual\": y_test,\n",
        "    \"Predicted_RF\": rf_pred,\n",
        "    \"Predicted_LR\": lr_pred\n",
        "})\n",
        "results.to_csv(\"Healthcare_Readmission_Results.csv\", index=False)\n",
        "\n",
        "print(\"\\n✅ Exported 'Healthcare_Readmission_Results.csv' for Power BI dashboard.\")"
      ]
    }
  ]
}
